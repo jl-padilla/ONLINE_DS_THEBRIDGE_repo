{
 "cells": [
  {
   "cell_type": "markdown",
   "metadata": {},
   "source": [
    "![cabecera_rl.png](./img/cabecera_rl.png)"
   ]
  },
  {
   "cell_type": "markdown",
   "metadata": {},
   "source": [
    "* [**Datos de partida**](#**Datos-de-partida**)  \n",
    "\n",
    "* [**Código a completar**](#**Código-a-completar**)  \n",
    "\n"
   ]
  },
  {
   "attachments": {
    "ejercicio.png": {
     "image/png": "[encoded data removed]"
    }
   },
   "cell_type": "markdown",
   "metadata": {},
   "source": [
    "![ejercicio.png](attachment:ejercicio.png) **EJERCICIO COMPLETAR CODIGO**"
   ]
  },
  {
   "attachments": {},
   "cell_type": "markdown",
   "metadata": {},
   "source": [
    "## SMARTCAB, mejorando una estrategia nada óptima\n",
    "\n",
    "El siguiente código mejora ligeramente las prestaciones de nuestro SmartCab sin algoritmo de aprendizaje por refuerzo. Para ello, añadimos una pequeña pero útil comprobación: no intentaremos hacer recogidas de pasajeros en los puntos que no son de recogida, ni intentaremos dejar al pasajero en puntos que no son el destino. \n",
    "\n",
    "Revisa y completa el código de forma que se ejecute sin errores y comprueba que la solución final tiene 0 penalties y además el número de epochs es sensiblemente menor a 2800.\n"
   ]
  },
  {
   "cell_type": "markdown",
   "metadata": {},
   "source": [
    "\n",
    "**IMPORTANTE:** Si lo prefieres, descargarte el notebook (File -> Download as -> Notebook) y complétalo en local, pero en ese caso tendrás que instalarte (via pip o conda) las librerias necesarias\n"
   ]
  },
  {
   "cell_type": "markdown",
   "metadata": {},
   "source": [
    "### **Datos de partida**  \n",
    "\n",
    "[al indice](#Contenidos)  \n",
    "\n"
   ]
  },
  {
   "attachments": {},
   "cell_type": "markdown",
   "metadata": {},
   "source": [
    "Para hacer el ejercicio necesitas conocer los valores de las observaciones. \n",
    "\n",
    "Si ejecutas:\n",
    "observations = list(env.decode(state)), donde state contiene el estado del entorno, observations es una lista de valores con las observaciones:  \n",
    "observations[0] = Fila de la posición del taxi (valor x)  \n",
    "observations[1] = Columna de la posición del taxi (valor y)  \n",
    "observations[2] = Estado del pasajero, (0-3, las posiciones R,G,B o Y, 4, está en el taxi)   \n",
    "observations[3] = Posición de destino (0-3, para las posciones R,G,B o Y)  \n",
    "\n",
    "Además las localizaciones de los puntos de recogida/destino son:  \n",
    "(0,0), posicion 0  \n",
    "(0,4), posicion 1  \n",
    "(4,0), posicion 2  \n",
    "(4,3), posicion 3  \n"
   ]
  },
  {
   "cell_type": "markdown",
   "metadata": {},
   "source": [
    "### **Código a completar**  \n",
    "\n",
    "[al indice](#Contenidos)  \n",
    "\n"
   ]
  },
  {
   "cell_type": "code",
   "execution_count": 4,
   "metadata": {},
   "outputs": [
    {
     "name": "stdout",
     "output_type": "stream",
     "text": [
      "Número medio de acciones ejecutadas por episodio: 593.25\n",
      "Número medio de penalizaciones por episodio: 0.0\n",
      "Tiempo medio simulado por episodio: 26756.25\n"
     ]
    }
   ],
   "source": [
    "import gym\n",
    "\n",
    "env = gym.make(\"Taxi-v3\", render_mode=\"ansi\").env\n",
    "\n",
    "penalties, reward, epochs = 0, 0, 0 # Inicializa las variables que llevaran las métricas del \"entrenamiento\"\n",
    "simulated_time = 0\n",
    "\n",
    "done = False\n",
    "\n",
    "def es_destino_o_recogida(state_index):\n",
    "    # Obtiene las observaciones correspondientes al indice indicado en state_index\n",
    "    observations = list(env.decode(state_index))\n",
    "    \n",
    "    # Extraer la fila y la columna del taxi\n",
    "    taxi_row, taxi_col = observations[0], observations[1]\n",
    "    \n",
    "    # Extraer índice de ubicación del pasajero y índice de destino\n",
    "    passenger_index, destination_index = observations[2], observations[3]\n",
    "    \n",
    "    # Ubicaciones codificadas como (fila, columna) para los índices 0, 1, 2, y 3\n",
    "    locations = [(0, 0), (0, 4), (4, 0), (4, 3)]\n",
    "\n",
    "    # Verificar si la posición del taxi coincide con la ubicación de recogida o la ubicación de destino\n",
    "    es_el_punto_de_recogida = (taxi_row, taxi_col) == locations[passenger_index] if passenger_index < 4 else False\n",
    "    es_el_punto_de_destino = (taxi_row, taxi_col) == locations[destination_index] if passenger_index == 4 else False\n",
    "    \n",
    "    return 1 if es_el_punto_de_destino else 2 if es_el_punto_de_recogida else 0\n",
    "\n",
    "for episode in range(100): # Jugamos 100 episodios y haremos las medias de las metricas de cada uno de ellos\n",
    "    state, info = env.reset() # Reset the environment to start a new episode\n",
    "    done = False\n",
    "    while not done:\n",
    "        action = env.action_space.sample() # Escoge una acción de forma aleatoria\n",
    "\n",
    "        # Comprueba si la acción es dejar y el pasajero no está en el taxi\n",
    "        if action == 5 and es_destino_o_recogida(state) != 1:\n",
    "            continue # Este comando hace que se salte todo lo demás y comience el bucle de nuevo, es decir no se actualizan contadores\n",
    "        \n",
    "        # Comprueba si la acción es recoger y la localización no es un punto de recogida o el pasajero no está en un punto de recogida\n",
    "        if action == 4 and es_destino_o_recogida(state) != 2:\n",
    "            continue # Este comando hace que se salte todo lo demás y comience el bucle de nuevo, es decir no se actualizan contadores\n",
    "        \n",
    "        if action < 4:\n",
    "            simulated_time += 45\n",
    "        else:\n",
    "            simulated_time += 75\n",
    "        \n",
    "        state, reward, done, truncated, info = env.step(action) # Ejecuta la acción\n",
    "        if reward == -10: # Si se equivoca en recogidas o dejadas, añade uno al contador de penalizaciones\n",
    "            penalties += 1\n",
    "\n",
    "        epochs += 1\n",
    "\n",
    "print(\"Número medio de acciones ejecutadas por episodio: {}\".format(epochs/100))\n",
    "print(\"Número medio de penalizaciones por episodio: {}\".format(penalties/100))\n",
    "print(\"Tiempo medio simulado por episodio: {}\".format(simulated_time/100))\n"
   ]
  },
  {
   "cell_type": "code",
   "execution_count": null,
   "metadata": {},
   "outputs": [],
   "source": []
  }
 ],
 "metadata": {
  "kernelspec": {
   "display_name": "BootCamp",
   "language": "python",
   "name": "python3"
  },
  "language_info": {
   "codemirror_mode": {
    "name": "ipython",
    "version": 3
   },
   "file_extension": ".py",
   "mimetype": "text/x-python",
   "name": "python",
   "nbconvert_exporter": "python",
   "pygments_lexer": "ipython3",
   "version": "3.11.5"
  },
  "orig_nbformat": 4
 },
 "nbformat": 4,
 "nbformat_minor": 2
}
