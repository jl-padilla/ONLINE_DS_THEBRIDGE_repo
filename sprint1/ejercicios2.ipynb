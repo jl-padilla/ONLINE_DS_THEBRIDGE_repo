{
 "cells": [
  {
   "cell_type": "code",
   "execution_count": null,
   "metadata": {},
   "outputs": [],
   "source": [
    "import random\n",
    "\n",
    "# generamos un numero \n",
    "\n",
    "randow_number = random.randint(0, 10)\n",
    "\n",
    "intentos = 3\n",
    "\n",
    "while intentos > 0:\n",
    "    eleccion = input(\"Adivina en que numero pienso del 1 al 10!: \")\n",
    "    if eleccion == randow_number:\n",
    "        print(\"You win!!\")\n",
    "        break\n",
    "    else:\n",
    "        print(f\"You lose!! {eleccion} es incorrecto\")\n",
    "        intentos -= 1"
   ]
  },
  {
   "cell_type": "markdown",
   "metadata": {},
   "source": [
    "Exercise 1\n",
    "Write a program that generates a random number (0-10) and ask you to guess it. You have three asserts.\n",
    "\n",
    "Define a random_number with randit between 0-10.\n",
    "Initialize guesses_left to 3.\n",
    "Use a while loop to let the user keep guessing so long as guesses_left is greater than zero.\n",
    "Ask the user for their guess, just like the second example above.\n",
    "If they guess correctly, print 'You win!' and break. Decrement guesses_left by one.\n",
    "Use an else: case after your while loop to print:You lose."
   ]
  },
  {
   "cell_type": "code",
   "execution_count": null,
   "metadata": {},
   "outputs": [],
   "source": [
    "import random\n",
    "\n",
    "# generamos un numero \n",
    "\n",
    "randow_number = random.randint(0, 10)\n",
    "\n",
    "intentos = 3\n",
    "\n",
    "while intentos > 0:\n",
    "    eleccion = input(\"Adivina en que numero pienso del 1 al 10!: \")\n",
    "    if eleccion == randow_number:\n",
    "        print(\"You win!!\")\n",
    "        break\n",
    "    else:\n",
    "        print(f\"You lose!! {eleccion} es incorrecto\")\n",
    "        intentos -= 1"
   ]
  },
  {
   "cell_type": "markdown",
   "metadata": {},
   "source": [
    "Exercise 2\n",
    "Create a for loop that prompts the user for a hobby 3 times, then appends each one to hobbies."
   ]
  },
  {
   "cell_type": "code",
   "execution_count": null,
   "metadata": {},
   "outputs": [
    {
     "name": "stdout",
     "output_type": "stream",
     "text": [
      "['tenis', 'futbol', 'baloncesto']\n"
     ]
    }
   ],
   "source": [
    "lista =[]\n",
    "\n",
    "for i in range(3):\n",
    "    hobby = input(\"Dime uno de tus hobbys?\")\n",
    "    lista.append(hobby)\n",
    "\n",
    "print(lista)\n",
    "\n"
   ]
  },
  {
   "cell_type": "markdown",
   "metadata": {},
   "source": [
    "Exercise 3\n",
    "REmember: The , character after our print statement means that our next print statement keeps printing on the same line. Let's filter out the letter 'A' from our string.\n",
    "\n",
    "phrase = \"A bird in the hand...\"\n",
    "Do the following for each character in the phrase.\n",
    "If char is an 'A' or char is an 'a', print 'X', instead of char. Make sure to include the trailing comma.\n",
    "Otherwise (else:), please print char, with the trailing comma.\n",
    "Exercise 4"
   ]
  },
  {
   "cell_type": "code",
   "execution_count": null,
   "metadata": {},
   "outputs": [
    {
     "name": "stdout",
     "output_type": "stream",
     "text": [
      "X bird in the hXnd..."
     ]
    }
   ],
   "source": [
    "phrase = \"A bird in the hand...\"\n",
    "\n",
    "for i in phrase:\n",
    "    if i == \"A\" or i == \"a\":\n",
    "        print(\"X\", end = '')\n",
    "    else:\n",
    "        print(i, end = ''),"
   ]
  },
  {
   "cell_type": "markdown",
   "metadata": {},
   "source": [
    "Exercise 4\n",
    "Define a function is_even that will take a number x as input.If x is even, then return True. Otherwise, return False. Note: even means that is divisible by two.Check if it works.\n",
    "\n"
   ]
  },
  {
   "cell_type": "code",
   "execution_count": null,
   "metadata": {},
   "outputs": [
    {
     "name": "stdout",
     "output_type": "stream",
     "text": [
      "False\n"
     ]
    }
   ],
   "source": [
    "x = int(input(\"Dime un numero:\"))\n",
    "\n",
    "if x % 2 == 0:\n",
    "    print(True)\n",
    "else:\n",
    "    print(False)"
   ]
  },
  {
   "cell_type": "markdown",
   "metadata": {},
   "source": [
    "Exercise 5\n",
    "Write a function called digit_sum that takes a positive integer n as input and returns the sum of all that number's digits.\n",
    "\n"
   ]
  },
  {
   "cell_type": "code",
   "execution_count": null,
   "metadata": {},
   "outputs": [
    {
     "name": "stdout",
     "output_type": "stream",
     "text": [
      "3\n"
     ]
    }
   ],
   "source": [
    "digit_sum = (input(\"Introduce un numero\"))\n",
    "\n",
    "lista = list(digit_sum)\n",
    "\n",
    "count = 0\n",
    "\n",
    "for i in lista:\n",
    "    add = int(i)\n",
    "    count = count + add\n",
    " \n",
    "print(count)"
   ]
  },
  {
   "cell_type": "markdown",
   "metadata": {},
   "source": [
    "Exercise 6\n",
    "Let's try a factorial problem. To calculate the factorial of a non-negative integer x, just multiply all the integers from 1 through x. For example: 3! is equal to 123\n",
    "\n"
   ]
  },
  {
   "cell_type": "code",
   "execution_count": null,
   "metadata": {},
   "outputs": [
    {
     "name": "stdout",
     "output_type": "stream",
     "text": [
      "120\n"
     ]
    }
   ],
   "source": [
    "x = int(input(\"Introduce un numero entero positivo\"))\n",
    "\n",
    "contador = 1\n",
    "\n",
    "for i in range(x):\n",
    "    contador = contador*(i+1)\n",
    "\n",
    "print(count)"
   ]
  },
  {
   "cell_type": "markdown",
   "metadata": {},
   "source": [
    "Exercise 7\n",
    "Scrabble is a game where players get points by spelling words. Words are scored by adding together the point values of each individual letter.Define a function scrabble_score that takes a string word as input and returns the equivalent scrabble score for that word.\n",
    "\n",
    "score = {\"a\": 1, \"c\": 3, \"b\": 3, \"e\": 1, \"d\": 2, \"g\": 2,\n",
    "         \"f\": 4, \"i\": 1, \"h\": 4, \"k\": 5, \"j\": 8, \"m\": 3,\n",
    "         \"l\": 1, \"o\": 1, \"n\": 1, \"q\": 10, \"p\": 3, \"s\": 1,\n",
    "         \"r\": 1, \"u\": 1, \"t\": 1, \"w\": 4, \"v\": 4, \"y\": 4,\n",
    "         \"x\": 8, \"z\": 10}\n"
   ]
  },
  {
   "cell_type": "code",
   "execution_count": 5,
   "metadata": {},
   "outputs": [
    {
     "name": "stdout",
     "output_type": "stream",
     "text": [
      "4\n"
     ]
    }
   ],
   "source": [
    "score = {\"a\": 1, \"c\": 3, \"b\": 3, \"e\": 1, \"d\": 2, \"g\": 2,\n",
    "         \"f\": 4, \"i\": 1, \"h\": 4, \"k\": 5, \"j\": 8, \"m\": 3,\n",
    "         \"l\": 1, \"o\": 1, \"n\": 1, \"q\": 10, \"p\": 3, \"s\": 1,\n",
    "         \"r\": 1, \"u\": 1, \"t\": 1, \"w\": 4, \"v\": 4, \"y\": 4,\n",
    "         \"x\": 8, \"z\": 10}\n",
    "\n",
    "palabra = list(input(\"Dime tu palabra\"))\n",
    "\n",
    "puntuacion_total = 0\n",
    "\n",
    "for letra in palabra:\n",
    "    puntuacion_total = score[letra] + puntuacion_total\n",
    "\n",
    "print(puntuacion_total)\n",
    "\n",
    "\n"
   ]
  },
  {
   "cell_type": "markdown",
   "metadata": {},
   "source": [
    "Exercise 8\n",
    "Define a function called count that has two arguments called sequence and item. Return the number of times the item occurs in the list.For example: count([1,2,1,1], 1) should return 3 (because 1 appears 3 times in the list).\n",
    "\n",
    "."
   ]
  },
  {
   "cell_type": "code",
   "execution_count": 8,
   "metadata": {},
   "outputs": [
    {
     "data": {
      "text/plain": [
       "3"
      ]
     },
     "execution_count": 8,
     "metadata": {},
     "output_type": "execute_result"
    }
   ],
   "source": [
    "def count(sequence,item):\n",
    "    count = 0\n",
    "    for i in sequence:\n",
    "        if i == item:\n",
    "            count += 1\n",
    "        else:\n",
    "            count = count\n",
    "    return count \n",
    "\n",
    "count([1,2,1,1], 1)\n",
    "\n"
   ]
  },
  {
   "cell_type": "markdown",
   "metadata": {},
   "source": [
    "Exercise 9\n",
    "Write a function remove_duplicates that takes in a list and removes elements of the list that are the same.For example: remove_duplicates([1,1,2,2]) should return [1,2]"
   ]
  },
  {
   "cell_type": "code",
   "execution_count": 11,
   "metadata": {},
   "outputs": [
    {
     "name": "stdout",
     "output_type": "stream",
     "text": [
      "[1, 2]\n"
     ]
    }
   ],
   "source": [
    "def remove_duplicates(sequence):\n",
    "    sequence_2 = []\n",
    "    for i in sequence:\n",
    "        if i not in sequence_2:\n",
    "            sequence_2.append(i)\n",
    "        else:\n",
    "            False\n",
    "    print(sequence_2)        \n",
    "\n",
    "remove_duplicates([1,1,2,2])            \n"
   ]
  }
 ],
 "metadata": {
  "kernelspec": {
   "display_name": "Python 3",
   "language": "python",
   "name": "python3"
  },
  "language_info": {
   "codemirror_mode": {
    "name": "ipython",
    "version": 3
   },
   "file_extension": ".py",
   "mimetype": "text/x-python",
   "name": "python",
   "nbconvert_exporter": "python",
   "pygments_lexer": "ipython3",
   "version": "3.12.4"
  }
 },
 "nbformat": 4,
 "nbformat_minor": 2
}
