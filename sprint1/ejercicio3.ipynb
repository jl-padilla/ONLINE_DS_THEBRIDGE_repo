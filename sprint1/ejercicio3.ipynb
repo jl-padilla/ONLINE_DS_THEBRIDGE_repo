{
 "cells": [
  {
   "cell_type": "markdown",
   "metadata": {},
   "source": [
    "\n",
    "lista = []\n",
    "\n",
    "for x in range(1500,2701):"
   ]
  },
  {
   "cell_type": "code",
   "execution_count": 25,
   "metadata": {},
   "outputs": [
    {
     "name": "stdout",
     "output_type": "stream",
     "text": [
      "['1505', '1540', '1575', '1610', '1645', '1680', '1715', '1750', '1785', '1820', '1855', '1890', '1925', '1960', '1995', '2030', '2065', '2100', '2135', '2170', '2205', '2240', '2275', '2310', '2345', '2380', '2415', '2450', '2485', '2520', '2555', '2590', '2625', '2660', '2695']\n"
     ]
    }
   ],
   "source": [
    "# Write a  Python program to find those numbers which are divisible by 7 and multiples of 5, between 1500 and 2700 (both included).\n",
    "\n",
    "lista = []\n",
    "\n",
    "for x in range(1500,2701):\n",
    "    if (x % 7 == 0) and (x % 5 == 0):\n",
    "        lista.append(str(x))\n",
    "print(lista)                     "
   ]
  },
  {
   "cell_type": "code",
   "execution_count": 32,
   "metadata": {},
   "outputs": [
    {
     "name": "stdout",
     "output_type": "stream",
     "text": [
      " 45 ºF son 7.222222222222222ºc\n"
     ]
    }
   ],
   "source": [
    "# 2. Write a Python program to convert temperatures to and from Celsius and Fahrenheit.\\\n",
    "#  [ Formula : c/5 = f-32/9 [ where c = temperature in celsius and f = temperature in fahrenheit ]\n",
    "# Expected Output :\n",
    "# 60°C is 140 in Fahrenheit\n",
    "# 45°F is 7 in Celsius\n",
    "\n",
    "F = int(input(\"Introduce temperatura en Fahrenheit\"))\n",
    "\n",
    "C = (5/9) * (F - 32)\n",
    "\n",
    "print(f\" {F} ºF son {C}ºc\")"
   ]
  },
  {
   "cell_type": "code",
   "execution_count": 43,
   "metadata": {},
   "outputs": [
    {
     "name": "stdout",
     "output_type": "stream",
     "text": [
      "\n",
      "*\n",
      "**\n",
      "***\n",
      "****\n",
      "*****\n",
      "****\n",
      "***\n",
      "**\n",
      "*\n"
     ]
    }
   ],
   "source": [
    "for i in range(5):\n",
    "     print(i*\"*\")\n",
    "for i in range(5,0,-1):\n",
    "     print(i*\"*\")"
   ]
  },
  {
   "cell_type": "code",
   "execution_count": 46,
   "metadata": {},
   "outputs": [
    {
     "name": "stdout",
     "output_type": "stream",
     "text": [
      "alol\n",
      "\n"
     ]
    }
   ],
   "source": [
    "palabra = input(\"Palabra a deletrear:\")\n",
    "\n",
    "for letra in range(len(palabra)-1,-1,-1):\n",
    "    print(palabra[letra], end=\"\")\n",
    "\n",
    "print(\"\\n\")"
   ]
  },
  {
   "cell_type": "code",
   "execution_count": null,
   "metadata": {},
   "outputs": [],
   "source": []
  }
 ],
 "metadata": {
  "kernelspec": {
   "display_name": "Python 3",
   "language": "python",
   "name": "python3"
  },
  "language_info": {
   "codemirror_mode": {
    "name": "ipython",
    "version": 3
   },
   "file_extension": ".py",
   "mimetype": "text/x-python",
   "name": "python",
   "nbconvert_exporter": "python",
   "pygments_lexer": "ipython3",
   "version": "3.12.4"
  }
 },
 "nbformat": 4,
 "nbformat_minor": 2
}
